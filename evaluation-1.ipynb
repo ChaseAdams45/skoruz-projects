{
 "cells": [
  {
   "cell_type": "markdown",
   "metadata": {},
   "source": [
    "# Evaluation 1\n",
    "\n",
    "This evaluation is based on python object oriented programming and python datascience libraries."
   ]
  },
  {
   "cell_type": "markdown",
   "metadata": {},
   "source": [
    "In the code block below, pandas library is used for reading a csv file. This file contains data for sepal and petal dimensions for different species for the iris flower. read_csv functions loads the csv file into a DataFrame object. DataFrame objects have their own set of fucntions for manupilation and processing data. For the purpose of this evaluation the numerical data from the dataset is converted into a numpy array (using .values method). based on this numpy array answer the below questions"
   ]
  },
  {
   "cell_type": "code",
   "execution_count": 3,
   "metadata": {},
   "outputs": [],
   "source": [
    "import numpy as np\n",
    "import pandas as pd\n",
    "\n",
    "\n",
    "data = pd.read_csv(\"Iris.csv\")\n",
    "\n",
    "data_array = data[['SepalLengthCm', 'SepalWidthCm', 'PetalLengthCm', 'PetalWidthCm']].values\n",
    "#data_array"
   ]
  },
  {
   "cell_type": "markdown",
   "metadata": {},
   "source": [
    "##### Q1.a What is the shape of data_array? Find the mean for all columns. **Do not use for loops**"
   ]
  },
  {
   "cell_type": "code",
   "execution_count": 4,
   "metadata": {},
   "outputs": [
    {
     "name": "stdout",
     "output_type": "stream",
     "text": [
      "(150, 4)\n",
      "[5.84333333 3.054      3.75866667 1.19866667]\n"
     ]
    }
   ],
   "source": [
    "##save result in a new variable\n",
    "shape = data_array.shape\n",
    "print(shape)\n",
    "means = data_array.sum(axis=0)/shape[0]\n",
    "print(means)"
   ]
  },
  {
   "cell_type": "markdown",
   "metadata": {},
   "source": [
    "##### Q1.b substract the columns means from their respective columns such that the new column means are zero. **Do not use for loops**"
   ]
  },
  {
   "cell_type": "code",
   "execution_count": 5,
   "metadata": {},
   "outputs": [
    {
     "data": {
      "text/plain": [
       "array([-0., -0.,  0., -0.])"
      ]
     },
     "execution_count": 5,
     "metadata": {},
     "output_type": "execute_result"
    }
   ],
   "source": [
    "new_data = data_array - means\n",
    "new_means = new_data.sum(axis=0)/shape[0]\n",
    "new_means.round(2)"
   ]
  },
  {
   "cell_type": "markdown",
   "metadata": {},
   "source": [
    "##### Q1.c Find the distance of all data samples from the mean. **Do not use for loops** Hint uses vectorization. \n",
    "dsitance between two vectors is given by: \n",
    "$d(x1,x2) = \\sqrt{\\sum{_{p}(x1_p -x2_p)^2}}$ \n",
    "\n",
    "Where p is the number of elements (dimension) of the vectors"
   ]
  },
  {
   "cell_type": "code",
   "execution_count": 6,
   "metadata": {},
   "outputs": [],
   "source": [
    "diff_squared = (data_array - means)**2\n",
    "sum_dist = diff_squared.sum(axis=1)"
   ]
  },
  {
   "cell_type": "markdown",
   "metadata": {},
   "source": [
    "In the code block bellow Pillow library is used to read image. The image is loaded as Pillow Image object. To use numpy operations on this object it is converted into a numpy array.\n",
    "\n",
    "The resulting numpy array will have the shape (H,W,C) where H is the height W is the width and C is the number of channels. Channel format RGB (Red Green and Blue) is most common. Pil reads jpeg image in RGB fromat. Some other formats are single channel (grayscale image) or RGBA (read green blue alpha) where A is the alpha channel used for transperency values. "
   ]
  },
  {
   "cell_type": "code",
   "execution_count": 25,
   "metadata": {},
   "outputs": [],
   "source": [
    "from PIL import Image\n",
    "\n",
    "img = np.array(Image.open(\"lenna.jpg\"))"
   ]
  },
  {
   "cell_type": "markdown",
   "metadata": {},
   "source": [
    "##### Q2.a Find the channel wise mean and standard deviation (std). **Do not use for loops**"
   ]
  },
  {
   "cell_type": "code",
   "execution_count": 23,
   "metadata": {},
   "outputs": [
    {
     "data": {
      "text/plain": [
       "array([177.18261728,  95.38548148, 101.22575802])"
      ]
     },
     "execution_count": 23,
     "metadata": {},
     "output_type": "execute_result"
    }
   ],
   "source": [
    "channel_wise_mean = np.mean(img, axis=(0,1))\n",
    "channel_wise_std = np.std(img, axis=(0,1))\n",
    "channel_wise_mean"
   ]
  },
  {
   "cell_type": "markdown",
   "metadata": {},
   "source": [
    "##### Q2.b Standardize the image i.e substract the per channel mean and divide by per channel std. **Do not use for loops**"
   ]
  },
  {
   "cell_type": "code",
   "execution_count": 26,
   "metadata": {},
   "outputs": [],
   "source": [
    "img_normal = (img - channel_wise_mean)/channel_wise_std"
   ]
  },
  {
   "cell_type": "markdown",
   "metadata": {},
   "source": [
    "##### Q2.c Use OpenCV to read the same image and find channel wise mean and std. Is there a differnece ?"
   ]
  },
  {
   "cell_type": "code",
   "execution_count": 28,
   "metadata": {},
   "outputs": [
    {
     "ename": "ModuleNotFoundError",
     "evalue": "No module named 'cv2'",
     "output_type": "error",
     "traceback": [
      "\u001b[1;31m---------------------------------------------------------------------------\u001b[0m",
      "\u001b[1;31mModuleNotFoundError\u001b[0m                       Traceback (most recent call last)",
      "\u001b[1;32m<ipython-input-28-07db1e651b0d>\u001b[0m in \u001b[0;36m<module>\u001b[1;34m\u001b[0m\n\u001b[1;32m----> 1\u001b[1;33m \u001b[1;32mimport\u001b[0m \u001b[0mcv2\u001b[0m\u001b[1;33m\u001b[0m\u001b[1;33m\u001b[0m\u001b[0m\n\u001b[0m\u001b[0;32m      2\u001b[0m \u001b[0mimg_\u001b[0m \u001b[1;33m=\u001b[0m \u001b[0mcv2\u001b[0m\u001b[1;33m.\u001b[0m\u001b[0mimread\u001b[0m\u001b[1;33m(\u001b[0m\u001b[1;34m\"lenna.jpg\"\u001b[0m\u001b[1;33m,\u001b[0m \u001b[0mcv2\u001b[0m\u001b[1;33m.\u001b[0m\u001b[0mIMREAD_COLOR\u001b[0m\u001b[1;33m)\u001b[0m\u001b[1;33m\u001b[0m\u001b[1;33m\u001b[0m\u001b[0m\n",
      "\u001b[1;31mModuleNotFoundError\u001b[0m: No module named 'cv2'"
     ]
    }
   ],
   "source": [
    "import cv2\n",
    "img_ = cv2.imread(\"lenna.jpg\", cv2.IMREAD_COLOR)\n",
    "norm_image = cv2.normalize(img_, None, alpha=0, beta=1, norm_type=cv2.NORM_MINMAX, dtype=cv2.CV_32F)\n"
   ]
  },
  {
   "cell_type": "markdown",
   "metadata": {},
   "source": [
    "In machine learning comparing differrent models requires to have a evaluations metric on some test or valiation data. This data is split from the original data before the models are trained on it to evaluate the genrelization ability. Usually 10 to 20 percent data is reserved for validation/testing. Scikit learn provides fucntion for this purpose. "
   ]
  },
  {
   "cell_type": "code",
   "execution_count": 64,
   "metadata": {},
   "outputs": [
    {
     "data": {
      "text/html": [
       "<div>\n",
       "<style scoped>\n",
       "    .dataframe tbody tr th:only-of-type {\n",
       "        vertical-align: middle;\n",
       "    }\n",
       "\n",
       "    .dataframe tbody tr th {\n",
       "        vertical-align: top;\n",
       "    }\n",
       "\n",
       "    .dataframe thead th {\n",
       "        text-align: right;\n",
       "    }\n",
       "</style>\n",
       "<table border=\"1\" class=\"dataframe\">\n",
       "  <thead>\n",
       "    <tr style=\"text-align: right;\">\n",
       "      <th></th>\n",
       "      <th>Species</th>\n",
       "    </tr>\n",
       "  </thead>\n",
       "  <tbody>\n",
       "    <tr>\n",
       "      <td>0</td>\n",
       "      <td>Iris-setosa</td>\n",
       "    </tr>\n",
       "    <tr>\n",
       "      <td>1</td>\n",
       "      <td>Iris-setosa</td>\n",
       "    </tr>\n",
       "    <tr>\n",
       "      <td>2</td>\n",
       "      <td>Iris-setosa</td>\n",
       "    </tr>\n",
       "    <tr>\n",
       "      <td>3</td>\n",
       "      <td>Iris-setosa</td>\n",
       "    </tr>\n",
       "    <tr>\n",
       "      <td>4</td>\n",
       "      <td>Iris-setosa</td>\n",
       "    </tr>\n",
       "    <tr>\n",
       "      <td>...</td>\n",
       "      <td>...</td>\n",
       "    </tr>\n",
       "    <tr>\n",
       "      <td>145</td>\n",
       "      <td>Iris-virginica</td>\n",
       "    </tr>\n",
       "    <tr>\n",
       "      <td>146</td>\n",
       "      <td>Iris-virginica</td>\n",
       "    </tr>\n",
       "    <tr>\n",
       "      <td>147</td>\n",
       "      <td>Iris-virginica</td>\n",
       "    </tr>\n",
       "    <tr>\n",
       "      <td>148</td>\n",
       "      <td>Iris-virginica</td>\n",
       "    </tr>\n",
       "    <tr>\n",
       "      <td>149</td>\n",
       "      <td>Iris-virginica</td>\n",
       "    </tr>\n",
       "  </tbody>\n",
       "</table>\n",
       "<p>150 rows × 1 columns</p>\n",
       "</div>"
      ],
      "text/plain": [
       "            Species\n",
       "0       Iris-setosa\n",
       "1       Iris-setosa\n",
       "2       Iris-setosa\n",
       "3       Iris-setosa\n",
       "4       Iris-setosa\n",
       "..              ...\n",
       "145  Iris-virginica\n",
       "146  Iris-virginica\n",
       "147  Iris-virginica\n",
       "148  Iris-virginica\n",
       "149  Iris-virginica\n",
       "\n",
       "[150 rows x 1 columns]"
      ]
     },
     "execution_count": 64,
     "metadata": {},
     "output_type": "execute_result"
    }
   ],
   "source": [
    "X_data = data[['SepalLengthCm', 'SepalWidthCm', 'PetalLengthCm', 'PetalWidthCm']].values #features used for prediction (independent variable)\n",
    "label  = data[['Species']] #label or target which will be predicted (dependent variable)\n",
    "label"
   ]
  },
  {
   "cell_type": "markdown",
   "metadata": {},
   "source": [
    "##### Q3 Split the X_data and label into train and validation sets with 20 percent data in validation set. Make sure that the split is random. However the same random split should be reproducible every run. Use scikit learn to split"
   ]
  },
  {
   "cell_type": "code",
   "execution_count": 68,
   "metadata": {},
   "outputs": [
    {
     "data": {
      "text/plain": [
       "(array([[4.6, 3.2, 1.4, 0.2],\n",
       "        [6.4, 3.2, 5.3, 2.3],\n",
       "        [4.3, 3. , 1.1, 0.1],\n",
       "        [5.6, 3. , 4.1, 1.3],\n",
       "        [4.4, 2.9, 1.4, 0.2],\n",
       "        [5.5, 2.4, 3.7, 1. ],\n",
       "        [5. , 2. , 3.5, 1. ],\n",
       "        [5.1, 3.5, 1.4, 0.2],\n",
       "        [4.9, 3. , 1.4, 0.2],\n",
       "        [4.9, 2.4, 3.3, 1. ],\n",
       "        [4.6, 3.6, 1. , 0.2],\n",
       "        [5.9, 3. , 4.2, 1.5],\n",
       "        [6.1, 2.9, 4.7, 1.4],\n",
       "        [5. , 3.4, 1.5, 0.2],\n",
       "        [6.7, 3.1, 4.7, 1.5],\n",
       "        [5.7, 2.9, 4.2, 1.3],\n",
       "        [6.2, 2.2, 4.5, 1.5],\n",
       "        [7. , 3.2, 4.7, 1.4],\n",
       "        [5.8, 2.7, 5.1, 1.9],\n",
       "        [5.4, 3.4, 1.7, 0.2],\n",
       "        [5. , 3. , 1.6, 0.2],\n",
       "        [6.1, 2.6, 5.6, 1.4],\n",
       "        [6.1, 2.8, 4. , 1.3],\n",
       "        [7.2, 3. , 5.8, 1.6],\n",
       "        [5.7, 2.6, 3.5, 1. ],\n",
       "        [6.3, 2.8, 5.1, 1.5],\n",
       "        [6.4, 3.1, 5.5, 1.8],\n",
       "        [6.3, 2.5, 4.9, 1.5],\n",
       "        [6.7, 3.1, 5.6, 2.4],\n",
       "        [4.9, 3.1, 1.5, 0.1]]), array([[5.8, 4. , 1.2, 0.2],\n",
       "        [5.1, 2.5, 3. , 1.1],\n",
       "        [6.6, 3. , 4.4, 1.4],\n",
       "        [5.4, 3.9, 1.3, 0.4],\n",
       "        [7.9, 3.8, 6.4, 2. ],\n",
       "        [6.3, 3.3, 4.7, 1.6],\n",
       "        [6.9, 3.1, 5.1, 2.3],\n",
       "        [5.1, 3.8, 1.9, 0.4],\n",
       "        [4.7, 3.2, 1.6, 0.2],\n",
       "        [6.9, 3.2, 5.7, 2.3],\n",
       "        [5.6, 2.7, 4.2, 1.3],\n",
       "        [5.4, 3.9, 1.7, 0.4],\n",
       "        [7.1, 3. , 5.9, 2.1],\n",
       "        [6.4, 3.2, 4.5, 1.5],\n",
       "        [6. , 2.9, 4.5, 1.5],\n",
       "        [4.4, 3.2, 1.3, 0.2],\n",
       "        [5.8, 2.6, 4. , 1.2],\n",
       "        [5.6, 3. , 4.5, 1.5],\n",
       "        [5.4, 3.4, 1.5, 0.4],\n",
       "        [5. , 3.2, 1.2, 0.2],\n",
       "        [5.5, 2.6, 4.4, 1.2],\n",
       "        [5.4, 3. , 4.5, 1.5],\n",
       "        [6.7, 3. , 5. , 1.7],\n",
       "        [5. , 3.5, 1.3, 0.3],\n",
       "        [7.2, 3.2, 6. , 1.8],\n",
       "        [5.7, 2.8, 4.1, 1.3],\n",
       "        [5.5, 4.2, 1.4, 0.2],\n",
       "        [5.1, 3.8, 1.5, 0.3],\n",
       "        [6.1, 2.8, 4.7, 1.2],\n",
       "        [6.3, 2.5, 5. , 1.9],\n",
       "        [6.1, 3. , 4.6, 1.4],\n",
       "        [7.7, 3. , 6.1, 2.3],\n",
       "        [5.6, 2.5, 3.9, 1.1],\n",
       "        [6.4, 2.8, 5.6, 2.1],\n",
       "        [5.8, 2.8, 5.1, 2.4],\n",
       "        [5.3, 3.7, 1.5, 0.2],\n",
       "        [5.5, 2.3, 4. , 1.3],\n",
       "        [5.2, 3.4, 1.4, 0.2],\n",
       "        [6.5, 2.8, 4.6, 1.5],\n",
       "        [6.7, 2.5, 5.8, 1.8],\n",
       "        [6.8, 3. , 5.5, 2.1],\n",
       "        [5.1, 3.5, 1.4, 0.3],\n",
       "        [6. , 2.2, 5. , 1.5],\n",
       "        [6.3, 2.9, 5.6, 1.8],\n",
       "        [6.6, 2.9, 4.6, 1.3],\n",
       "        [7.7, 2.6, 6.9, 2.3],\n",
       "        [5.7, 3.8, 1.7, 0.3],\n",
       "        [5. , 3.6, 1.4, 0.2],\n",
       "        [4.8, 3. , 1.4, 0.3],\n",
       "        [5.2, 2.7, 3.9, 1.4],\n",
       "        [5.1, 3.4, 1.5, 0.2],\n",
       "        [5.5, 3.5, 1.3, 0.2],\n",
       "        [7.7, 3.8, 6.7, 2.2],\n",
       "        [6.9, 3.1, 5.4, 2.1],\n",
       "        [7.3, 2.9, 6.3, 1.8],\n",
       "        [6.4, 2.8, 5.6, 2.2],\n",
       "        [6.2, 2.8, 4.8, 1.8],\n",
       "        [6. , 3.4, 4.5, 1.6],\n",
       "        [7.7, 2.8, 6.7, 2. ],\n",
       "        [5.7, 3. , 4.2, 1.2],\n",
       "        [4.8, 3.4, 1.6, 0.2],\n",
       "        [5.7, 2.5, 5. , 2. ],\n",
       "        [6.3, 2.7, 4.9, 1.8],\n",
       "        [4.8, 3. , 1.4, 0.1],\n",
       "        [4.7, 3.2, 1.3, 0.2],\n",
       "        [6.5, 3. , 5.8, 2.2],\n",
       "        [4.6, 3.4, 1.4, 0.3],\n",
       "        [6.1, 3. , 4.9, 1.8],\n",
       "        [6.5, 3.2, 5.1, 2. ],\n",
       "        [6.7, 3.1, 4.4, 1.4],\n",
       "        [5.7, 2.8, 4.5, 1.3],\n",
       "        [6.7, 3.3, 5.7, 2.5],\n",
       "        [6. , 3. , 4.8, 1.8],\n",
       "        [5.1, 3.8, 1.6, 0.2],\n",
       "        [6. , 2.2, 4. , 1. ],\n",
       "        [6.4, 2.9, 4.3, 1.3],\n",
       "        [6.5, 3. , 5.5, 1.8],\n",
       "        [5. , 2.3, 3.3, 1. ],\n",
       "        [6.3, 3.3, 6. , 2.5],\n",
       "        [5.5, 2.5, 4. , 1.3],\n",
       "        [5.4, 3.7, 1.5, 0.2],\n",
       "        [4.9, 3.1, 1.5, 0.1],\n",
       "        [5.2, 4.1, 1.5, 0.1],\n",
       "        [6.7, 3.3, 5.7, 2.1],\n",
       "        [4.4, 3. , 1.3, 0.2],\n",
       "        [6. , 2.7, 5.1, 1.6],\n",
       "        [6.4, 2.7, 5.3, 1.9],\n",
       "        [5.9, 3. , 5.1, 1.8],\n",
       "        [5.2, 3.5, 1.5, 0.2],\n",
       "        [5.1, 3.3, 1.7, 0.5],\n",
       "        [5.8, 2.7, 4.1, 1. ],\n",
       "        [4.9, 3.1, 1.5, 0.1],\n",
       "        [7.4, 2.8, 6.1, 1.9],\n",
       "        [6.2, 2.9, 4.3, 1.3],\n",
       "        [7.6, 3. , 6.6, 2.1],\n",
       "        [6.7, 3. , 5.2, 2.3],\n",
       "        [6.3, 2.3, 4.4, 1.3],\n",
       "        [6.2, 3.4, 5.4, 2.3],\n",
       "        [7.2, 3.6, 6.1, 2.5],\n",
       "        [5.6, 2.9, 3.6, 1.3],\n",
       "        [5.7, 4.4, 1.5, 0.4],\n",
       "        [5.8, 2.7, 3.9, 1.2],\n",
       "        [4.5, 2.3, 1.3, 0.3],\n",
       "        [5.5, 2.4, 3.8, 1.1],\n",
       "        [6.9, 3.1, 4.9, 1.5],\n",
       "        [5. , 3.4, 1.6, 0.4],\n",
       "        [6.8, 2.8, 4.8, 1.4],\n",
       "        [5. , 3.5, 1.6, 0.6],\n",
       "        [4.8, 3.4, 1.9, 0.2],\n",
       "        [6.3, 3.4, 5.6, 2.4],\n",
       "        [5.6, 2.8, 4.9, 2. ],\n",
       "        [6.8, 3.2, 5.9, 2.3],\n",
       "        [5. , 3.3, 1.4, 0.2],\n",
       "        [5.1, 3.7, 1.5, 0.4],\n",
       "        [5.9, 3.2, 4.8, 1.8],\n",
       "        [4.6, 3.1, 1.5, 0.2],\n",
       "        [5.8, 2.7, 5.1, 1.9],\n",
       "        [4.8, 3.1, 1.6, 0.2],\n",
       "        [6.5, 3. , 5.2, 2. ],\n",
       "        [4.9, 2.5, 4.5, 1.7]]), array([['Iris-setosa'],\n",
       "        ['Iris-virginica'],\n",
       "        ['Iris-setosa'],\n",
       "        ['Iris-versicolor'],\n",
       "        ['Iris-setosa'],\n",
       "        ['Iris-versicolor'],\n",
       "        ['Iris-versicolor'],\n",
       "        ['Iris-setosa'],\n",
       "        ['Iris-setosa'],\n",
       "        ['Iris-versicolor'],\n",
       "        ['Iris-setosa'],\n",
       "        ['Iris-versicolor'],\n",
       "        ['Iris-versicolor'],\n",
       "        ['Iris-setosa'],\n",
       "        ['Iris-versicolor'],\n",
       "        ['Iris-versicolor'],\n",
       "        ['Iris-versicolor'],\n",
       "        ['Iris-versicolor'],\n",
       "        ['Iris-virginica'],\n",
       "        ['Iris-setosa'],\n",
       "        ['Iris-setosa'],\n",
       "        ['Iris-virginica'],\n",
       "        ['Iris-versicolor'],\n",
       "        ['Iris-virginica'],\n",
       "        ['Iris-versicolor'],\n",
       "        ['Iris-virginica'],\n",
       "        ['Iris-virginica'],\n",
       "        ['Iris-versicolor'],\n",
       "        ['Iris-virginica'],\n",
       "        ['Iris-setosa']], dtype=object), array([['Iris-setosa'],\n",
       "        ['Iris-versicolor'],\n",
       "        ['Iris-versicolor'],\n",
       "        ['Iris-setosa'],\n",
       "        ['Iris-virginica'],\n",
       "        ['Iris-versicolor'],\n",
       "        ['Iris-virginica'],\n",
       "        ['Iris-setosa'],\n",
       "        ['Iris-setosa'],\n",
       "        ['Iris-virginica'],\n",
       "        ['Iris-versicolor'],\n",
       "        ['Iris-setosa'],\n",
       "        ['Iris-virginica'],\n",
       "        ['Iris-versicolor'],\n",
       "        ['Iris-versicolor'],\n",
       "        ['Iris-setosa'],\n",
       "        ['Iris-versicolor'],\n",
       "        ['Iris-versicolor'],\n",
       "        ['Iris-setosa'],\n",
       "        ['Iris-setosa'],\n",
       "        ['Iris-versicolor'],\n",
       "        ['Iris-versicolor'],\n",
       "        ['Iris-versicolor'],\n",
       "        ['Iris-setosa'],\n",
       "        ['Iris-virginica'],\n",
       "        ['Iris-versicolor'],\n",
       "        ['Iris-setosa'],\n",
       "        ['Iris-setosa'],\n",
       "        ['Iris-versicolor'],\n",
       "        ['Iris-virginica'],\n",
       "        ['Iris-versicolor'],\n",
       "        ['Iris-virginica'],\n",
       "        ['Iris-versicolor'],\n",
       "        ['Iris-virginica'],\n",
       "        ['Iris-virginica'],\n",
       "        ['Iris-setosa'],\n",
       "        ['Iris-versicolor'],\n",
       "        ['Iris-setosa'],\n",
       "        ['Iris-versicolor'],\n",
       "        ['Iris-virginica'],\n",
       "        ['Iris-virginica'],\n",
       "        ['Iris-setosa'],\n",
       "        ['Iris-virginica'],\n",
       "        ['Iris-virginica'],\n",
       "        ['Iris-versicolor'],\n",
       "        ['Iris-virginica'],\n",
       "        ['Iris-setosa'],\n",
       "        ['Iris-setosa'],\n",
       "        ['Iris-setosa'],\n",
       "        ['Iris-versicolor'],\n",
       "        ['Iris-setosa'],\n",
       "        ['Iris-setosa'],\n",
       "        ['Iris-virginica'],\n",
       "        ['Iris-virginica'],\n",
       "        ['Iris-virginica'],\n",
       "        ['Iris-virginica'],\n",
       "        ['Iris-virginica'],\n",
       "        ['Iris-versicolor'],\n",
       "        ['Iris-virginica'],\n",
       "        ['Iris-versicolor'],\n",
       "        ['Iris-setosa'],\n",
       "        ['Iris-virginica'],\n",
       "        ['Iris-virginica'],\n",
       "        ['Iris-setosa'],\n",
       "        ['Iris-setosa'],\n",
       "        ['Iris-virginica'],\n",
       "        ['Iris-setosa'],\n",
       "        ['Iris-virginica'],\n",
       "        ['Iris-virginica'],\n",
       "        ['Iris-versicolor'],\n",
       "        ['Iris-versicolor'],\n",
       "        ['Iris-virginica'],\n",
       "        ['Iris-virginica'],\n",
       "        ['Iris-setosa'],\n",
       "        ['Iris-versicolor'],\n",
       "        ['Iris-versicolor'],\n",
       "        ['Iris-virginica'],\n",
       "        ['Iris-versicolor'],\n",
       "        ['Iris-virginica'],\n",
       "        ['Iris-versicolor'],\n",
       "        ['Iris-setosa'],\n",
       "        ['Iris-setosa'],\n",
       "        ['Iris-setosa'],\n",
       "        ['Iris-virginica'],\n",
       "        ['Iris-setosa'],\n",
       "        ['Iris-versicolor'],\n",
       "        ['Iris-virginica'],\n",
       "        ['Iris-virginica'],\n",
       "        ['Iris-setosa'],\n",
       "        ['Iris-setosa'],\n",
       "        ['Iris-versicolor'],\n",
       "        ['Iris-setosa'],\n",
       "        ['Iris-virginica'],\n",
       "        ['Iris-versicolor'],\n",
       "        ['Iris-virginica'],\n",
       "        ['Iris-virginica'],\n",
       "        ['Iris-versicolor'],\n",
       "        ['Iris-virginica'],\n",
       "        ['Iris-virginica'],\n",
       "        ['Iris-versicolor'],\n",
       "        ['Iris-setosa'],\n",
       "        ['Iris-versicolor'],\n",
       "        ['Iris-setosa'],\n",
       "        ['Iris-versicolor'],\n",
       "        ['Iris-versicolor'],\n",
       "        ['Iris-setosa'],\n",
       "        ['Iris-versicolor'],\n",
       "        ['Iris-setosa'],\n",
       "        ['Iris-setosa'],\n",
       "        ['Iris-virginica'],\n",
       "        ['Iris-virginica'],\n",
       "        ['Iris-virginica'],\n",
       "        ['Iris-setosa'],\n",
       "        ['Iris-setosa'],\n",
       "        ['Iris-versicolor'],\n",
       "        ['Iris-setosa'],\n",
       "        ['Iris-virginica'],\n",
       "        ['Iris-setosa'],\n",
       "        ['Iris-virginica'],\n",
       "        ['Iris-virginica']], dtype=object))"
      ]
     },
     "execution_count": 68,
     "metadata": {},
     "output_type": "execute_result"
    }
   ],
   "source": [
    "from sklearn.model_selection import train_test_split\n",
    "labels = np.array(label)\n",
    "#print(labels)\n",
    "x_train, x_val, label_train, label_val = train_test_split(X_data, labels, train_size=0.2, random_state=1)\n",
    "x_train, x_val, label_train, label_val"
   ]
  },
  {
   "cell_type": "markdown",
   "metadata": {},
   "source": [
    "##### Q4 Object oriented programming in python\n",
    "\n",
    "##### Q4.a\n",
    "In object detection the ouput of the algorithm is a bounding box around the objects that are detected as shown below.\n",
    "\n",
    "![](sample.jpg \"Sample detections from an object detector\")\n",
    "\n",
    "There are multiple formats for bounding boxes. Two of the common ones are xywh (x y of top left point of the box and width and height) and xyxy (top left and bottom right x and y coordinates). \n",
    "\n",
    "Create an object called bbox that takes in a list of length 4 as inputs. these are are four points of the box. It should also take in input a string called mode which can be either \"xywh\" or \"xyxy\" depending on the format. This objects should have the following methods 1. xyxy_to_xywh that converts from xyxy format to xywh 2. xywh_to_xyxy 3. area that finds area of bbox 4. is_in that takes input another bbox object and returns true if the current bbox is inside the input bbox.\n",
    "\n",
    "further if print is used on the object it should print the xyxy coordinates  and area. \"+\" operator should add areas of two bounding boxes. square brackets \"[]\" should index accordingly. For eg bbox[0] should return x1 (top left x co-ordinate)  and bbox[2] should return w if mode is xywh else return x2 (bottom right x co-ordinate).    \n"
   ]
  },
  {
   "cell_type": "code",
   "execution_count": 30,
   "metadata": {},
   "outputs": [
    {
     "data": {
      "text/plain": [
       "True"
      ]
     },
     "execution_count": 30,
     "metadata": {},
     "output_type": "execute_result"
    }
   ],
   "source": [
    "class bbox():\n",
    "    def __init__(self, lst, mode):\n",
    "        self.mode = mode\n",
    "        self.top_left = [lst[0], lst[1]]\n",
    "        self.lst = lst\n",
    "        if mode==\"xywh\":\n",
    "            self.w = lst[2]\n",
    "            self.h = lst[3]\n",
    "            self.bottom_right = [self.top_left[0] + self.w, self.top_left[1] + self.h]\n",
    "        else:\n",
    "            self.bottom_right = [lst[2], lst[3]]\n",
    "            self.w = self.bottom_right[0] - self.top_left[0]\n",
    "            self.h = self.bottom_right[1] - self.top_left[1]\n",
    "            \n",
    "    def __str__(self):\n",
    "        coords = self.top_left + self.bottom_right\n",
    "        area = self.area()\n",
    "        return \"{}, {}\".format(coords, area)\n",
    "    \n",
    "    def __add__(self, other):\n",
    "        return self.area() + other.area()\n",
    "    \n",
    "    def __getitem__(self, index):\n",
    "        return self.lst[index]\n",
    "        \n",
    "            \n",
    "    def xyxy_to_xywh(self):\n",
    "        self.mode = \"xywh\"\n",
    "        \n",
    "    def xywh_to_xyxy(self):\n",
    "        self.mode =\"xyxy\"\n",
    "        \n",
    "    def area(self):\n",
    "        return self.w * self.h\n",
    "    \n",
    "    def is_in(self, other):\n",
    "        return self.top_left[0] >= other.top_left[0] and self.top_left[1] >= other.top_left[1] and self.w <= other.w and self.h <= other.h\n",
    "    \n",
    "box1 = bbox([0,0,4,4], \"xyxy\")\n",
    "box2 = bbox([1,1,2,2], \"xywh\")\n",
    "box2.is_in(box1)"
   ]
  },
  {
   "cell_type": "markdown",
   "metadata": {},
   "source": [
    "\n",
    "##### 4.b\n",
    "\n",
    "create objects called Face, Violation, Person that are specials cases of bounding boxes. Face is a box with name, Violation is box with and id. Person is an object that has a location given by a box, name given by a name of face object and violations given by list of violation id of violation object. Person object two methods 1) get_name that takes in list of faces and returns name of the face inside it's location box and sets the person's name if found. 2) get_violation that get the  violation boxes insided the person's location and sets the person's violations attribute. \n",
    "use inheritance accordingly"
   ]
  },
  {
   "cell_type": "code",
   "execution_count": 31,
   "metadata": {},
   "outputs": [],
   "source": [
    "class Face(bbox):\n",
    "    # bbox with name\n",
    "    def __init__(self, lst, mode, name):\n",
    "        super().__init__(lst, mode)\n",
    "        self.name = name\n",
    "\n",
    "class Violation(bbox):\n",
    "    # bbox with id\n",
    "    def __init__(self, lst, mode, id_):\n",
    "        super().__init__(lst, mode)\n",
    "        self.id = id_\n",
    "\n",
    "class Person():\n",
    "    # takes location bbox as param\n",
    "    def __init__(self, location):\n",
    "        self.location = location\n",
    "        self.name = \"\"\n",
    "        self.violations = []\n",
    "    def get_name(faces):\n",
    "        for face in faces:\n",
    "            if face.is_in(location):\n",
    "                self.name = face.name\n",
    "                return face.name\n",
    "    def get_violation(violations):\n",
    "        for violation in violations:\n",
    "            if violation.is_in(location) and violation not in self.violations:\n",
    "                self.violations += violation\n",
    "                "
   ]
  },
  {
   "cell_type": "code",
   "execution_count": null,
   "metadata": {},
   "outputs": [],
   "source": []
  }
 ],
 "metadata": {
  "kernelspec": {
   "display_name": "Python 3",
   "language": "python",
   "name": "python3"
  },
  "language_info": {
   "codemirror_mode": {
    "name": "ipython",
    "version": 3
   },
   "file_extension": ".py",
   "mimetype": "text/x-python",
   "name": "python",
   "nbconvert_exporter": "python",
   "pygments_lexer": "ipython3",
   "version": "3.7.4"
  }
 },
 "nbformat": 4,
 "nbformat_minor": 5
}
